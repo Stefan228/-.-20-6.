{
 "cells": [
  {
   "cell_type": "code",
   "execution_count": 4,
   "metadata": {},
   "outputs": [],
   "source": [
    "import re"
   ]
  },
  {
   "cell_type": "code",
   "execution_count": 5,
   "metadata": {},
   "outputs": [],
   "source": [
    "def linear_solver(AM, BM):\n",
    "    n = len(AM)\n",
    "    indices = list(range(n)) # гибкие ссылки на строки\n",
    "    for fd in range(n): # fd означает диагональ фокуса\n",
    "        fdScaler = 1.0 / AM[fd][fd]\n",
    "        # масштабируtv строку fd с инверсией fd\n",
    "        for j in range(n): # Используйте j для обозначения зацикливания столбцов\n",
    "            AM[fd][j] *= fdScaler\n",
    "        BM[fd][0] *= fdScaler\n",
    "        # работаем со всеми строками, кроме строки fd\n",
    "        for i in indices[0:fd] + indices[fd+1:]: # пропустить строку fd\n",
    "            crScaler = AM[i][fd] # cr означает текущая строка\n",
    "            for j in range(n): # cr - crScaler*fdRow\n",
    "                AM[i][j] = AM[i][j] - crScaler * AM[fd][j]\n",
    "            BM[i][0] = BM[i][0] - crScaler * BM[fd][0]\n",
    "    return BM"
   ]
  },
  {
   "cell_type": "code",
   "execution_count": 6,
   "metadata": {},
   "outputs": [],
   "source": [
    "def linear_to_matrix(linears):\n",
    "    A, B = [], []\n",
    "    all_vars = list(re.sub('[^a-z]', '', \"\".join(linears)))\n",
    "    vars = []\n",
    "    for i in all_vars:\n",
    "        if i not in vars:\n",
    "            vars.append(i)\n",
    "    for i in linears:\n",
    "        i = i.replace(\"+ \", \"\").replace(\"- \", \"-\").split(\" = \")\n",
    "        li = i[0].split()\n",
    "        li = [''.join(filter(lambda x: x.isdigit() or x in \"+-\", i.replace(\"*\", \"\"))) for i in li]\n",
    "        li = [float(i) if i else 1.0 for i in li]\n",
    "        A.append(list(map(float, li)))\n",
    "        ri = i[1].split()\n",
    "        B.append(list(map(float, ri)))\n",
    "    linear_res = [str(i[0]) for i in linear_solver(A, B)]\n",
    "    res = dict(zip(vars, linear_res))\n",
    "    print(\"\\n\\nРешения линейных уравнений:\")\n",
    "    print(res)\n",
    "    return res"
   ]
  },
  {
   "cell_type": "code",
   "execution_count": 7,
   "metadata": {},
   "outputs": [],
   "source": [
    "def non_linear_solver(non_linear):\n",
    "    all_vars = list(re.sub('[^a-z]', '', non_linear))\n",
    "    non_linear = non_linear.replace(\"+ \", \"\").replace(\"- \", \"-\").split(\" = \")\n",
    "    li = non_linear[0].split()\n",
    "    calcs = [i for i in li if any(j not in i for j in all_vars)]\n",
    "    chars = [i for i in li if any(j in i for j in all_vars)]\n",
    "    chars_temp = chars[0].split(\"**\")\n",
    "    if len(chars_temp) > 1:\n",
    "        chars_power = chars_temp[1]\n",
    "    else:\n",
    "        chars_power = 1\n",
    "    chars_val = chars_temp[0].split(\"*\")[0]\n",
    "    if chars_val == all_vars[0]:\n",
    "        chars_val = 1\n",
    "    tosum = []\n",
    "    for i in calcs:\n",
    "        temp1 = i.split(\"**\")\n",
    "        if len(temp1) > 1:\n",
    "            temp2 = temp1[0].split(\"*\")\n",
    "            if len(temp2) > 1:\n",
    "                print(temp2)\n",
    "                tosum.append((float(temp2[1])**float(temp1[1]))*float(temp2[0]))\n",
    "            else:\n",
    "                tosum.append(float(temp2[0])**float(temp1[1]))\n",
    "        else:\n",
    "            temp2 = i.split(\"*\")\n",
    "            if len(temp2) > 1:\n",
    "                tosum.append(float(temp2[1])*float(temp2[0]))\n",
    "            else:\n",
    "                tosum.append(float(temp2[0]))\n",
    "    non_linear_res = []\n",
    "    temp = (sum(tosum)*-1)/float(chars_val)\n",
    "    if float(chars_power) == 4:\n",
    "        temp1 = temp**(1/2)\n",
    "        temp2 = (temp**(1/2))*-1\n",
    "        temp3 = temp1**(1/2)\n",
    "        temp4 = (temp1**(1/2))*-1\n",
    "        temp5 = temp2**(1/2)\n",
    "        temp6 = (temp2**(1/2))*-1\n",
    "        non_linear_res.append([temp3, temp4, temp5, temp6])\n",
    "    elif float(chars_power) == 2:\n",
    "        temp1 = temp**(1/2)\n",
    "        temp2 = (temp**(1/2))*-1\n",
    "        non_linear_res.append([temp1, temp2])\n",
    "    else:\n",
    "        temp1 = temp**(1/float(chars_power))\n",
    "        non_linear_res.append(temp1)\n",
    "    res = dict(zip(all_vars, non_linear_res))\n",
    "    print(\"\\n\\nРешение нелинейного уравнения:\")\n",
    "    print(res)\n",
    "    return res"
   ]
  },
  {
   "cell_type": "code",
   "execution_count": 8,
   "metadata": {},
   "outputs": [],
   "source": [
    "def get_answer(inp):\n",
    "    non_linear = [i for i in inp if \"**\" in i][0]\n",
    "    linears = [i for i in inp if \"**\" not in i]\n",
    "    linear_res = linear_to_matrix(linears)\n",
    "    for i, j in linear_res.items():\n",
    "        non_linear = non_linear.replace(i, j)\n",
    "    non_linear_res = non_linear_solver(non_linear)\n",
    "    res = {**linear_res, **non_linear_res}\n",
    "    return res"
   ]
  },
  {
   "cell_type": "code",
   "execution_count": 9,
   "metadata": {},
   "outputs": [],
   "source": [
    "def main(command = \"\"):\n",
    "    if not command:\n",
    "        print(\"1 - Ввести систему уравнений\\n2 - Считать систему уравнений из файла input.txt\")\n",
    "        command = int(input(\"Ввод: \"))\n",
    "    if command == 1:\n",
    "        print(\"\\nПример системы уравнений\\n[INPUT]: x**2 + 5*y + z = -5\\n[INPUT]: x + y = 0\\n[INPUT]: 8*x + 5*y = -6\\n[INPUT]: .\\n\\nЧтобы завершить систему введите точку\")\n",
    "        inputs = []\n",
    "        inp = input(\"[INPUT]: \")\n",
    "        while inp != \".\":\n",
    "            inputs.append(inp)\n",
    "            inp =  input(\"[INPUT]: \")\n",
    "    elif command == 2:\n",
    "        print(\"\\nСистема уравнений взята из файла input.txt\")\n",
    "        with open(\"input.txt\", \"r\", encoding=\"utf-8\") as f:\n",
    "            inputs = [i.rstrip() for i in f.readlines()]\n",
    "        print(\"\\n\".join(inputs))\n",
    "        inputs = inputs[:-1]\n",
    "    result = get_answer(inputs)\n",
    "    print(\"\\n\\nИтоговый ответ:\")\n",
    "    print(result)"
   ]
  },
  {
   "cell_type": "code",
   "execution_count": 11,
   "metadata": {},
   "outputs": [
    {
     "name": "stdout",
     "output_type": "stream",
     "text": [
      "1 - Ввести систему уравнений\n",
      "2 - Считать систему уравнений из файла input.txt\n",
      "Ввод: 1\n",
      "\n",
      "Пример системы уравнений\n",
      "[INPUT]: x**2 + 5*y + z = -5\n",
      "[INPUT]: x + y = 0\n",
      "[INPUT]: 8*x + 5*y = -6\n",
      "[INPUT]: .\n",
      "\n",
      "Чтобы завершить систему введите точку\n",
      "[INPUT]: x**2 + 5*y + z + 5 = 0\n",
      "[INPUT]: x + y = 0\n",
      "[INPUT]: 8*x + 5*y = -6\n",
      "[INPUT]: .\n",
      "\n",
      "\n",
      "Решения линейных уравнений:\n",
      "{'x': '-2.0', 'y': '2.0'}\n",
      "\n",
      "\n",
      "Решение нелинейного уравнения:\n",
      "{'z': -19.0}\n",
      "\n",
      "\n",
      "Итоговый ответ:\n",
      "{'x': '-2.0', 'y': '2.0', 'z': -19.0}\n"
     ]
    }
   ],
   "source": [
    "main()"
   ]
  },
  {
   "cell_type": "code",
   "execution_count": null,
   "metadata": {},
   "outputs": [],
   "source": []
  }
 ],
 "metadata": {
  "kernelspec": {
   "display_name": "Python 3",
   "language": "python",
   "name": "python3"
  },
  "language_info": {
   "codemirror_mode": {
    "name": "ipython",
    "version": 3
   },
   "file_extension": ".py",
   "mimetype": "text/x-python",
   "name": "python",
   "nbconvert_exporter": "python",
   "pygments_lexer": "ipython3",
   "version": "3.8.3"
  }
 },
 "nbformat": 4,
 "nbformat_minor": 4
}
