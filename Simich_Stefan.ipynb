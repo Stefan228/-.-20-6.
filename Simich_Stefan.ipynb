{
 "cells": [
  {
   "cell_type": "raw",
   "metadata": {},
   "source": [
    "1) Функция принимает два кортежа из двух элементов – координаты точек. Вывести уравнение прямой, проходящей через заданные точки. Функция должна вызывать ошибку, если переданные данные в нее некорректны (кортежи имеют не 2 элемента, типы данных не float и не integer)\n"
   ]
  },
  {
   "cell_type": "code",
   "execution_count": 2,
   "metadata": {},
   "outputs": [],
   "source": [
    "import math"
   ]
  },
  {
   "cell_type": "code",
   "execution_count": 1,
   "metadata": {},
   "outputs": [
    {
     "data": {
      "text/plain": [
       "'-90y = -2x - 880'"
      ]
     },
     "execution_count": 1,
     "metadata": {},
     "output_type": "execute_result"
    }
   ],
   "source": [
    "def ex1(pat_1, pat_2):\n",
    "    assert isinstance(pat_1, tuple) and isinstance(pat_2, tuple), \"неправильный тип данных\"\n",
    "    assert len(pat_1) == 2 and len(pat_2) == 2, \"котрежи имеют не 2 элемента\"\n",
    "    for i in pat_1:\n",
    "        if not(isinstance(i, float) or isinstance(i, int)):\n",
    "            raise TypeError(\"неправильный тип данных в первом котреже\")\n",
    "    for i in pat_2:\n",
    "        if not(isinstance(i, float) or isinstance(i, int)):\n",
    "            raise TypeError(\"неправильный тип данных во втором кортеже\")\n",
    "    x1 = pat_1[0]\n",
    "    y1 = pat_1[1]\n",
    "    x2 = pat_2[0]\n",
    "    y2 = pat_2[1]\n",
    "    ky = x1 - x2\n",
    "    kx = y1 - y2\n",
    "    b = x1 * y2 - x2 *y1\n",
    "    if b > 0:\n",
    "        return f'{ky}y = {kx}x + {b}'\n",
    "    else:\n",
    "        return f'{ky}y = {kx}x - {-b}'\n",
    "ex1((10, 10), (100, 12))"
   ]
  },
  {
   "cell_type": "raw",
   "metadata": {},
   "source": [
    "2) Реализовать функцию, которая вычисляет, сколько придется платить в месяц по кредиту и сколько всего отдать денег банку за весь период. Функция принимает обязательные аргументы p, n и необязательный параметр Boolean и необязательные параметры m, s. Если необязательный параметр Boolean равен True, то функция возвращает ежемесячный платеж и обязательно принимает параметр s, иначе возвращает всю сумму и обязательно принимает параметр m. Если данные параметры не передаются, вызывать ошибку. Функция должна иметь обработчик ошибок.\n"
   ]
  },
  {
   "cell_type": "code",
   "execution_count": 4,
   "metadata": {},
   "outputs": [
    {
     "name": "stdout",
     "output_type": "stream",
     "text": [
      "введите сумму займа: 500\n",
      "введите процентную ставку в месяц: 5\n",
      "введите время, за которое собираетесь выпалить: 55\n",
      "выплаты в месяц 2500.63\n"
     ]
    }
   ],
   "source": [
    "def ex2():\n",
    "    summ = input(\"введите сумму займа: \")\n",
    "    proc = int(input(\"введите процентную ставку в месяц: \"))\n",
    "    time = input(\"введите время, за которое собираетесь выпалить: \")\n",
    "    duration = float(time)\n",
    "    a = float(summ)\n",
    "    b = float(proc)\n",
    "    c = duration * 12\n",
    "    monthly = a * b * (1 + b) * c \\\n",
    "                    / ((1+ proc) * c - 1)\n",
    "    print(\"выплаты в месяц %.2f\" % monthly)\n",
    "ex2()"
   ]
  },
  {
   "cell_type": "raw",
   "metadata": {},
   "source": [
    "3) даны два списка и необходимо найти их совпадающие элементы, то есть область пересечения списков - элементы, которые присутствуют в обоих списках. Дополнительно: реализовать при помощи генератора. Дополнительно2: реализовать при помощи анонимной функции\n"
   ]
  },
  {
   "cell_type": "code",
   "execution_count": 5,
   "metadata": {},
   "outputs": [
    {
     "name": "stdout",
     "output_type": "stream",
     "text": [
      "['a', 6, [15, 16], 'random']\n"
     ]
    }
   ],
   "source": [
    "def ex3():\n",
    "    fromm = ['a','qwer', \"qweg\", 6, [15, 16], 'random']\n",
    "    too = [6, 'aa', 'a', [15, 16], 'random']\n",
    "    match = []\n",
    "    for i in fromm:\n",
    "        if i in match:\n",
    "            continue\n",
    "        for i2 in too:\n",
    "            if i == i2:\n",
    "                match.append(i)\n",
    "                break\n",
    "    print(match)\n",
    "ex3()"
   ]
  },
  {
   "cell_type": "raw",
   "metadata": {},
   "source": [
    "4) Отсортировать слова в строке по возрастанию их длины. Реализовать при помощи лямбда функции"
   ]
  },
  {
   "cell_type": "code",
   "execution_count": 7,
   "metadata": {},
   "outputs": [
    {
     "name": "stdout",
     "output_type": "stream",
     "text": [
      "['f', '1', '12', '123', 'wreq', '1234', '123456', 'qwertyu', '123456789', 'weqasdadqweqawsdqwrarfsdarweg']\n"
     ]
    }
   ],
   "source": [
    "sorting = ['wreq', 'f', '123456', '123','1','123456789', '12', 'qwertyu', '1234', 'weqasdadqweqawsdqwrarfsdarweg']\n",
    "sorting.sort(key = len)\n",
    "print(sorting)"
   ]
  },
  {
   "cell_type": "raw",
   "metadata": {},
   "source": [
    "5) Посчитать количество одинаковых элементов в списке. Результатом является словарь. Реализовать при помощи анонимной функции.\n"
   ]
  },
  {
   "cell_type": "code",
   "execution_count": 11,
   "metadata": {},
   "outputs": [
    {
     "name": "stdout",
     "output_type": "stream",
     "text": [
      "Требуется ввести слово  apple\n",
      "Требуется ввести слово  apple\n",
      "Требуется ввести слово  apple\n",
      "Требуется ввести слово  a\n",
      "{'a': 1, 'apple': 3}\n"
     ]
    }
   ],
   "source": [
    "finderm = []\n",
    "for i in range(4):\n",
    "    match = str(input('Требуется ввести слово  '))\n",
    "    finderm.append(match)\n",
    "print(dict((ii, finderm.count(ii)) for ii in set(finderm) if finderm.count(ii)> 0))"
   ]
  },
  {
   "cell_type": "code",
   "execution_count": null,
   "metadata": {},
   "outputs": [],
   "source": []
  }
 ],
 "metadata": {
  "kernelspec": {
   "display_name": "Python 3",
   "language": "python",
   "name": "python3"
  },
  "language_info": {
   "codemirror_mode": {
    "name": "ipython",
    "version": 3
   },
   "file_extension": ".py",
   "mimetype": "text/x-python",
   "name": "python",
   "nbconvert_exporter": "python",
   "pygments_lexer": "ipython3",
   "version": "3.8.3"
  }
 },
 "nbformat": 4,
 "nbformat_minor": 4
}
