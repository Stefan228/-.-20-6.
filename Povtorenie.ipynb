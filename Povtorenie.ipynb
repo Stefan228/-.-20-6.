{
 "cells": [
  {
   "cell_type": "markdown",
   "metadata": {},
   "source": [
    "Функция принимает два параметра. Первый параметр – float (радиус окружности), второй bool.  Написать программу, которая в зависимости от второго параметра ищет либо площадь окружности, либо длину окружности."
   ]
  },
  {
   "cell_type": "code",
   "execution_count": 34,
   "metadata": {},
   "outputs": [
    {
     "name": "stdout",
     "output_type": "stream",
     "text": [
      "Введите радиус окружности:  3 \n",
      "True - длина окружности, False - площадь: False\n",
      "18.84955592153876\n"
     ]
    }
   ],
   "source": [
    "import math\n",
    "def main():\n",
    "    radius= float(input(\"Введите радиус окружности:  \"))\n",
    "    accept= bool(input(\"True - длина окружности, False - площадь: \"))\n",
    "    if accept == True:\n",
    "        print(circle_length(radius))\n",
    "    else:\n",
    "        print(circle_area(radius))\n",
    "main()"
   ]
  },
  {
   "cell_type": "markdown",
   "metadata": {},
   "source": [
    "Написать функцию, которая находит факториал числа (и положительный и отрицательный)"
   ]
  },
  {
   "cell_type": "code",
   "execution_count": 2,
   "metadata": {},
   "outputs": [
    {
     "name": "stdout",
     "output_type": "stream",
     "text": [
      "----------------------------------------\n",
      "Вычисление факториала n\n",
      "----------------------------------------\n",
      "Введите n:3\n",
      "----------------------------------------\n",
      "Факториал из 3 = 6\n"
     ]
    }
   ],
   "source": [
    "print('----------------------------------------')\n",
    "print('Вычисление факториала n')\n",
    "print('----------------------------------------')\n",
    "try:\n",
    "    n = int(input('Введите n:'))\n",
    "except Exception:\n",
    "    print('Произошла ошибка')\n",
    "else:\n",
    "    x = 1\n",
    "    for i in range(1,n+1):\n",
    "        x = x*i\n",
    "    print('----------------------------------------')\n",
    "    print('Факториал из {} = {}'.format(n,x))"
   ]
  },
  {
   "cell_type": "markdown",
   "metadata": {},
   "source": [
    "На основе строки, представляющей из себя предложение, построить вложенный список, содержащий символы всех слов в предложении. Пример: строка 'Eeny, meeny, miney, moe; Catch a tiger by his toe.' будет преобразована в: [['E', 'e', 'n', 'y'], ['m', 'e', 'e', 'n', 'y'], ['m', 'i', 'n', 'e', 'y'], ['m', 'o', 'e'], ['C', 'a', 't', 'c', 'h'], ['a'], ['t', 'i', 'g', 'e', 'r'], ['b', 'y'], ['h', 'i', 's'], ['t', 'o', 'e']]"
   ]
  },
  {
   "cell_type": "code",
   "execution_count": null,
   "metadata": {},
   "outputs": [],
   "source": [
    "lst_5 = list()\n",
    "for i in range(5, 10):\n",
    "    lst_5.append(i)\n",
    "    print(i, end=' ')\n",
    "print(lst_5)\n"
   ]
  },
  {
   "cell_type": "code",
   "execution_count": 57,
   "metadata": {},
   "outputs": [
    {
     "data": {
      "text/plain": [
       "[['E'],\n",
       " ['e'],\n",
       " ['n'],\n",
       " ['y'],\n",
       " [','],\n",
       " [' '],\n",
       " ['m'],\n",
       " ['e'],\n",
       " ['e'],\n",
       " ['n'],\n",
       " ['y'],\n",
       " [','],\n",
       " [' '],\n",
       " ['m'],\n",
       " ['i'],\n",
       " ['n'],\n",
       " ['e'],\n",
       " ['y'],\n",
       " [','],\n",
       " [' '],\n",
       " ['m'],\n",
       " ['o'],\n",
       " ['e'],\n",
       " [';'],\n",
       " [' '],\n",
       " ['C'],\n",
       " ['a'],\n",
       " ['t'],\n",
       " ['c'],\n",
       " ['h'],\n",
       " [' '],\n",
       " ['a'],\n",
       " [' '],\n",
       " ['t'],\n",
       " ['i'],\n",
       " ['g'],\n",
       " ['e'],\n",
       " ['r'],\n",
       " [' '],\n",
       " ['b'],\n",
       " ['y'],\n",
       " [' '],\n",
       " ['h'],\n",
       " ['i'],\n",
       " ['s'],\n",
       " [' '],\n",
       " ['t'],\n",
       " ['o'],\n",
       " ['e'],\n",
       " ['.']]"
      ]
     },
     "execution_count": 57,
     "metadata": {},
     "output_type": "execute_result"
    }
   ],
   "source": [
    "import re\n",
    "string = 'Eeny, meeny, miney, moe; Catch a tiger by his toe.' \n",
    "[re.split(r'\\W',i) for i in re.split(r'\\.|\\?|\\!',string) if len(i)]\n",
    "[[x for x in i if len(x)]for i in string]"
   ]
  },
  {
   "cell_type": "markdown",
   "metadata": {},
   "source": [
    "В строке содержащей последовательность слов, разделенных запятыми удалить все нечетные слова. Ответ представить в виде строки. Пример: строка 'SIX,SEVEN,EIGHT,NINE,TEN' будет преобразована в: 'SIX,EIGHT,TEN'."
   ]
  },
  {
   "cell_type": "code",
   "execution_count": null,
   "metadata": {},
   "outputs": [],
   "source": []
  },
  {
   "cell_type": "markdown",
   "metadata": {},
   "source": [
    "Из списка списков элементами которого являются текстовые символы собрать строку, в которой вложенные списки объединены в слова, а слова через запятую объединены в строку. Пример список вида [['E', 'e', 'n', 'y'], ['m', 'e', 'e', 'n', 'y'], ['m', 'i', 'n', 'e', 'y'], ['m', 'o', 'e']] будет преобразован в строку ‘Eeny,meeny,miney,moe’\n"
   ]
  },
  {
   "cell_type": "code",
   "execution_count": 71,
   "metadata": {},
   "outputs": [
    {
     "ename": "AttributeError",
     "evalue": "'list' object has no attribute 'join'",
     "output_type": "error",
     "traceback": [
      "\u001b[1;31m---------------------------------------------------------------------------\u001b[0m",
      "\u001b[1;31mAttributeError\u001b[0m                            Traceback (most recent call last)",
      "\u001b[1;32m<ipython-input-71-7188f8db043a>\u001b[0m in \u001b[0;36m<module>\u001b[1;34m\u001b[0m\n\u001b[0;32m      1\u001b[0m \u001b[0ma\u001b[0m \u001b[1;33m=\u001b[0m \u001b[1;33m[\u001b[0m\u001b[1;33m[\u001b[0m\u001b[1;34m'E'\u001b[0m\u001b[1;33m,\u001b[0m \u001b[1;34m'e'\u001b[0m\u001b[1;33m,\u001b[0m \u001b[1;34m'n'\u001b[0m\u001b[1;33m,\u001b[0m \u001b[1;34m'y'\u001b[0m\u001b[1;33m]\u001b[0m\u001b[1;33m,\u001b[0m \u001b[1;33m[\u001b[0m\u001b[1;34m'm'\u001b[0m\u001b[1;33m,\u001b[0m \u001b[1;34m'e'\u001b[0m\u001b[1;33m,\u001b[0m \u001b[1;34m'e'\u001b[0m\u001b[1;33m,\u001b[0m \u001b[1;34m'n'\u001b[0m\u001b[1;33m,\u001b[0m \u001b[1;34m'y'\u001b[0m\u001b[1;33m]\u001b[0m\u001b[1;33m,\u001b[0m \u001b[1;33m[\u001b[0m\u001b[1;34m'm'\u001b[0m\u001b[1;33m,\u001b[0m \u001b[1;34m'i'\u001b[0m\u001b[1;33m,\u001b[0m \u001b[1;34m'n'\u001b[0m\u001b[1;33m,\u001b[0m \u001b[1;34m'e'\u001b[0m\u001b[1;33m,\u001b[0m \u001b[1;34m'y'\u001b[0m\u001b[1;33m]\u001b[0m\u001b[1;33m,\u001b[0m \u001b[1;33m[\u001b[0m\u001b[1;34m'm'\u001b[0m\u001b[1;33m,\u001b[0m \u001b[1;34m'o'\u001b[0m\u001b[1;33m,\u001b[0m \u001b[1;34m'e'\u001b[0m\u001b[1;33m]\u001b[0m\u001b[1;33m]\u001b[0m\u001b[1;33m\u001b[0m\u001b[1;33m\u001b[0m\u001b[0m\n\u001b[0;32m      2\u001b[0m \u001b[0mdelimiter\u001b[0m \u001b[1;33m=\u001b[0m \u001b[1;34m','\u001b[0m\u001b[1;33m\u001b[0m\u001b[1;33m\u001b[0m\u001b[0m\n\u001b[1;32m----> 3\u001b[1;33m \u001b[0moutput\u001b[0m \u001b[1;33m=\u001b[0m \u001b[0md\u001b[0m\u001b[1;33m.\u001b[0m\u001b[0mjoin\u001b[0m\u001b[1;33m(\u001b[0m\u001b[0ma\u001b[0m\u001b[1;33m)\u001b[0m\u001b[1;33m\u001b[0m\u001b[1;33m\u001b[0m\u001b[0m\n\u001b[0m\u001b[0;32m      4\u001b[0m \u001b[0mprint\u001b[0m\u001b[1;33m(\u001b[0m\u001b[0moutput\u001b[0m\u001b[1;33m)\u001b[0m\u001b[1;33m\u001b[0m\u001b[1;33m\u001b[0m\u001b[0m\n",
      "\u001b[1;31mAttributeError\u001b[0m: 'list' object has no attribute 'join'"
     ]
    }
   ],
   "source": [
    "a = [['E', 'e', 'n', 'y'], ['m', 'e', 'e', 'n', 'y'], ['m', 'i', 'n', 'e', 'y'], ['m', 'o', 'e']]\n",
    "delimiter = ','\n",
    "output = d.join(a)\n",
    "print(output)"
   ]
  },
  {
   "cell_type": "markdown",
   "metadata": {},
   "source": [
    "Используя генератор словарей (и не используя код вне него) инвертировать словарь, т.е. сделать ключи словарая, его значениями и наоборото. Значения, которые в исходном словаре повторяются не добавлять в итоговы словарь. Пример: {'a':1, 'b':3, 'c':4, 'd':3} -> {1:'a', 4:'c'}"
   ]
  },
  {
   "cell_type": "code",
   "execution_count": null,
   "metadata": {},
   "outputs": [],
   "source": []
  },
  {
   "cell_type": "markdown",
   "metadata": {},
   "source": [
    "Используя генератор словарей (и не используя код вне него) преобразовать словарь в котором ключами являются кортежи из целых чисел в словарь в котором ключем является среднее значение из чисел исходного ключа, значение оставить прежним. Пример: {(2,4):'a', (1,1,1):'b', (2,3):'c'} -> {3.0:'a', 1.0:'b', 2.5:'c'}"
   ]
  },
  {
   "cell_type": "code",
   "execution_count": null,
   "metadata": {},
   "outputs": [],
   "source": []
  },
  {
   "cell_type": "markdown",
   "metadata": {},
   "source": [
    "Используя генератор списков (и не используя код вне него) преобразовать список кортежей в список кортежей по следующему правилу: если в кортеже четное количество элементов, то из него нужно удалить последний элемент. В остальных случаях кортежи оставить неизменнымии. Приемер: [(1,3,4), (2,1), (6,), (2,2,2,1)] -> [(1,3,4), (2,), (6,), (2,2,2,)] "
   ]
  },
  {
   "cell_type": "code",
   "execution_count": null,
   "metadata": {},
   "outputs": [],
   "source": []
  },
  {
   "cell_type": "markdown",
   "metadata": {},
   "source": [
    "Используя генератор списков (и не используя код вне него) преобразовать два списка (в первом содержатся целые числа, во втором строки, содержащие один символ) в словарь, в котором соответствующие друг другу пары значений из исходных списков преобразованы в целочисленный ключ и строку состоящую из повторенных символов (количество повтарений равно значению ключа). Пример [2, 4, 1, 3], ['a', 'b', 'c', 'd'] -> {2:'aa', 4:'bbbb', 1:'c', 3:'ddd'}"
   ]
  },
  {
   "cell_type": "code",
   "execution_count": null,
   "metadata": {},
   "outputs": [],
   "source": []
  },
  {
   "cell_type": "markdown",
   "metadata": {},
   "source": [
    "Реализовать функцию list3_to2(list1, list2, list3), которая при помощи очереди превращает 3 списка одинаковой длины в 2 списка, длина которых не различается больше чем на 1, в полученных очередях должны чередоваться элементы из разных исходных списков и не должен нарушаться их порядок (т.е. если ‘A’ шло раньше ‘B’ в исходном списке, то ‘B’ не может идти раньше ‘A’ в итоговом списке\n"
   ]
  },
  {
   "cell_type": "code",
   "execution_count": null,
   "metadata": {},
   "outputs": [],
   "source": []
  },
  {
   "cell_type": "markdown",
   "metadata": {},
   "source": [
    "Используя генератор словарей (и не используя код вне него) преобразовать словарь в котором ключами и значениями являются целые числа в список, в котором содержатся суммы исходных пар ключей и значений, причем, в список включаются только суммы, являющиеся четными числами.  Пример: {2:4, 3:2, 12:6, 5:4, 1:3} -> [6, 18, 4]"
   ]
  },
  {
   "cell_type": "code",
   "execution_count": null,
   "metadata": {},
   "outputs": [],
   "source": []
  },
  {
   "cell_type": "markdown",
   "metadata": {},
   "source": [
    "Используя генератор списков (и не используя код вне него) преобразовать список содержащий положительные целые числа в список, элементами которого являются списки с длинной равной соответствующему числу в первом списке. Содержимым вложенных списков являются последовательно идущие целые числа начиная с 1. Пример: [3, 1, 4] -> [[1, 2, 3], [1], [1, 2, 3, 4\n"
   ]
  },
  {
   "cell_type": "code",
   "execution_count": null,
   "metadata": {},
   "outputs": [],
   "source": []
  },
  {
   "cell_type": "markdown",
   "metadata": {},
   "source": [
    "Используя генератор списков (и не используя код вне него) преобразовать строку по следующей логике: для каждого символа исходной строки создать в итоговом списке строку, содержащую копии символа в количестве, равном номеру символа рассчитанному с конца исходной строки. Пример: 'abcd' -> ['aaaa', 'bbb', 'cc', 'd']\n"
   ]
  },
  {
   "cell_type": "code",
   "execution_count": null,
   "metadata": {},
   "outputs": [],
   "source": []
  },
  {
   "cell_type": "markdown",
   "metadata": {},
   "source": [
    "Реализовать функцию repl , которая принимает на вход строку и набор заранее неизвестных параметров. Результатом функции является строка, в которой слова совпадающие с именами параметров заменены на значения параметров. Пример: строка: 'replace my val abc', параметры my='s1', abc='fff' -> Результат: 'replace s1 val fff'\n"
   ]
  },
  {
   "cell_type": "code",
   "execution_count": null,
   "metadata": {},
   "outputs": [],
   "source": []
  },
  {
   "cell_type": "markdown",
   "metadata": {},
   "source": [
    "Реализовать функцию psort, которая принимает на вход набор заранее неизвестных поименованных параметров. Функция возвращает список значений параметров отсортированный по именам параметров. Пример: psort(c=21, a=22, ac=17, b=16) -> [22, 17, 16, 21]\n"
   ]
  },
  {
   "cell_type": "code",
   "execution_count": null,
   "metadata": {},
   "outputs": [],
   "source": []
  },
  {
   "cell_type": "markdown",
   "metadata": {},
   "source": [
    "Реализовать функцию psort, которая принимает на вход набор заранее неизвестных поименованных параметров. Функция возвращает список имен параметров, отсортированный по значениям параметров. Пример: psort(c=21, a=22, ac=17, b=16) -> [b, ac, c, a]  "
   ]
  },
  {
   "cell_type": "code",
   "execution_count": null,
   "metadata": {},
   "outputs": [],
   "source": []
  },
  {
   "cell_type": "markdown",
   "metadata": {},
   "source": [
    "Реализовать функцию nam_par, которая принимает на вход заранее неизвестное количество параметров и необязательный параметр name в который можно передать строку. Функция возвращает словарь в котором переданные параметры являются значениями, ключами для них являются соответсвующие (сопоставленные по порядку следования) символы из строки name. Если строка name не задана, то значения присваиваются по порядку английского алфавита. Пример 1: nam_par(7, 3, 1, 8, 10, 13, name='xyzafg') -> {'x':7, 'y':3, 'z':1, 'a':8, 'f':10, 'g':13} Пример 2: nam_par(21, 'val', -3.5) -> {'a':21, 'b':'val', 'c':-3.5}  "
   ]
  },
  {
   "cell_type": "code",
   "execution_count": null,
   "metadata": {},
   "outputs": [],
   "source": []
  },
  {
   "cell_type": "markdown",
   "metadata": {},
   "source": [
    "Реализовать функцию par_val, которая принимает на вход заранее неизвестное количество именованных параметров (значения параметров - строки) и возвращает список имен параметров, которым соответствуют строки, содержащие более двух слов. Пример: par_val(pp='abba war', fan='oneword', zr='a x') -> [pp, zr]"
   ]
  },
  {
   "cell_type": "code",
   "execution_count": null,
   "metadata": {},
   "outputs": [],
   "source": []
  },
  {
   "cell_type": "markdown",
   "metadata": {},
   "source": [
    "Реализовать функцию split_par принимающую необязательный параметр boundary, имеющий значение по умолчанию 10.0 и неопределенное количество параметров – чисел с плавающей точкой. Функция должна вернуть два значения: сумму параметров больших boundary и список параметров меньших чем boundary, отсортированный в порядке убывания их значений. \n",
    "Пример1: split_par(5, 21, 11, 18, 7, boundary=15) -> 39, [11, 7, 5]\n",
    "Пример2: split_par(5, 21, 11, 18, 7) -> 50, [7, 5]\n"
   ]
  },
  {
   "cell_type": "code",
   "execution_count": null,
   "metadata": {},
   "outputs": [],
   "source": []
  },
  {
   "cell_type": "markdown",
   "metadata": {},
   "source": [
    "Написать функцию count_dig(s, d), где s – строка, а d – целое число в интервале от 0 до 99. Функция возвращает количество раз, которое цифры, используемые при записи числа d, встречаются в строке s. Если d записывается двумя одинаковыми цифрами (например, d=33), то итоговое значение рассчитывается для одной цифры.\n"
   ]
  },
  {
   "cell_type": "code",
   "execution_count": null,
   "metadata": {},
   "outputs": [],
   "source": []
  },
  {
   "cell_type": "markdown",
   "metadata": {},
   "source": [
    "Реализовать функцию repeat_par принимающую неопределенное количество именованных параметров, в которых имени параметра сопоставлено целое число. Функция должна возвратить строку, в которой все имена именованных параметров должны быть повторены количество раз, равное их значению, а следовать эти слов должны в лексикографическом порядке. \n",
    "Пример: repeat_par(meeny=3, test=2, by=4, a=1) -> 'a by by by by meeny meeny meeny test test'\n"
   ]
  },
  {
   "cell_type": "code",
   "execution_count": null,
   "metadata": {},
   "outputs": [],
   "source": []
  },
  {
   "cell_type": "markdown",
   "metadata": {},
   "source": [
    "Используя генератор словарей (и не используя код вне него) преобразовать список в словарь, в котором будут хранится только нечетные элементы списка, ключами для которых будут их номера в списке.\n",
    "\n",
    "Пример: [1, 3, 4, -1, 3, 2]  -> {2:3, 4:-1, 6:2}\n"
   ]
  },
  {
   "cell_type": "code",
   "execution_count": null,
   "metadata": {},
   "outputs": [],
   "source": []
  },
  {
   "cell_type": "markdown",
   "metadata": {},
   "source": [
    "Реализовать функцию double_val принимающую словарь, имеющий в качестве значений целые числа и неопределенное количество списков. Функция должна вернуть словарь, в котором каждое из значений удвоено столько раз, сколько имя его ключа встречалось в параметрах-списках (если ключ ни разу не встречался среди параметров – соответствующее ему значение не меняется).\n",
    "\n",
    "Пример: double_val({'a':2, 'b':3, 'f':10, 's':5}, ['a','x','f'], ['s','s','x'], ['a','s']) -> {'a':8, 'b':3, 'f':20, 's':40}\n"
   ]
  },
  {
   "cell_type": "code",
   "execution_count": null,
   "metadata": {},
   "outputs": [],
   "source": []
  },
  {
   "cell_type": "markdown",
   "metadata": {},
   "source": [
    "Используя генератор списков (и не используя код вне него) преобразовать словарь в список, в котором содержатся строки, состоящие из конкатенированных ключей и значений, только для тех пар ключ-значение из исходного словаря, в которых и ключ и значение – строки.\n",
    "\n",
    "Пример: {'word':2, 11:'val', 'abc':'def', '7':'step', '0.2':1, '3':'3'} -> ['abcdef', '7step', '33']\n"
   ]
  },
  {
   "cell_type": "code",
   "execution_count": null,
   "metadata": {},
   "outputs": [],
   "source": []
  },
  {
   "cell_type": "markdown",
   "metadata": {},
   "source": [
    "Реализовать функцию zip_srt_words принимающую в качестве параметра 2 строки. Функция возвращает строку, в которой поочередно идут слова из первого и второго параметра. Слова каждого из параметров отсортированы в порядке возрастания. Если количество слов в параметрах не одинаковое то слова, которым не хватает пары из другого аргумента в результат не включаются.\n",
    "Пример: zip_srt_words('def ghi abc ','delta gamma betta alpha') -> 'abc alpha def betta ghi delta'\n"
   ]
  },
  {
   "cell_type": "code",
   "execution_count": 24,
   "metadata": {},
   "outputs": [],
   "source": [
    "def zip_srt_words(string1,string2):\n",
    "    string1 = sorted(string1.split())\n",
    "    string2 = sorted(string2.split())\n",
    "    lst = zip(string1,string2)\n",
    "    return ' '.join([i for j in lst for i in j])"
   ]
  },
  {
   "cell_type": "code",
   "execution_count": 25,
   "metadata": {},
   "outputs": [
    {
     "data": {
      "text/plain": [
       "'abc alpha def betta ghi delta'"
      ]
     },
     "execution_count": 25,
     "metadata": {},
     "output_type": "execute_result"
    }
   ],
   "source": [
    "zip_srt_words('def ghi abc ','delta gamma betta alpha')"
   ]
  },
  {
   "cell_type": "code",
   "execution_count": 29,
   "metadata": {},
   "outputs": [
    {
     "data": {
      "text/plain": [
       "['SEVEN', 'EIGHT', 'NINE', 'SIX', 'TEN']"
      ]
     },
     "execution_count": 29,
     "metadata": {},
     "output_type": "execute_result"
    }
   ],
   "source": [
    "string = 'SIX,SEVEN,EIGHT,NINE,TEN'.split(',')\n",
    "sorted(string, key = len, reverse=True)"
   ]
  },
  {
   "cell_type": "markdown",
   "metadata": {},
   "source": [
    "Используя генератор множеств (и не используя код вне него) преобразовать словарь, в котором и ключи и значения – строки во множество, в котором содержатся только те значения словаря, у которых все символы строки ключа представлены в строке соответствующего ей значения.\n",
    "Пример: {'ab':'alpha', 'ate':'betta', 'max':'gamma', 'lt':'delta'} -> {'betta', 'delta'}\n",
    "Реализовать функцию rest_last, которая в качестве первого параметра принимает строку слов, разделенных пробелами, и возвращает строку, состоящую из тех же слов в той же последовательности, исключая слова, для которых в исходной строке после это данного встречалось такое же слово.\n",
    "Пример: rest_last(‘один два семь один ноль пять три семь’) -> ‘два один ноль пять три семь’\n"
   ]
  },
  {
   "cell_type": "code",
   "execution_count": 14,
   "metadata": {},
   "outputs": [
    {
     "data": {
      "text/plain": [
       "{'alpha', 'betta', 'delta', 'gamma'}"
      ]
     },
     "execution_count": 14,
     "metadata": {},
     "output_type": "execute_result"
    }
   ],
   "source": [
    "dicti =  {'ab':'alpha', 'ate':'betta', 'max':'gamma', 'lt':'delta'} \n",
    "{v for k,v in dicti.items() for tt in k if tt in v}"
   ]
  },
  {
   "cell_type": "code",
   "execution_count": 15,
   "metadata": {},
   "outputs": [
    {
     "data": {
      "text/plain": [
       "{'betta', 'delta'}"
      ]
     },
     "execution_count": 15,
     "metadata": {},
     "output_type": "execute_result"
    }
   ],
   "source": [
    "dicti = {'ab':'alpha', 'ate':'betta', 'max':'gamma', 'lt':'delta'}\n",
    "{v for k, v in dicti.items() if set(k).intersection(set(v)) == set(k)}"
   ]
  },
  {
   "cell_type": "code",
   "execution_count": 18,
   "metadata": {},
   "outputs": [],
   "source": [
    "def rest_last(string):\n",
    "    string = string.split()\n",
    "    lst = []\n",
    "    for i,e in enumerate(string):\n",
    "        if e not in string[i+1:]:\n",
    "            lst.append(e)\n",
    "    return ' '.join(lst)"
   ]
  },
  {
   "cell_type": "code",
   "execution_count": 19,
   "metadata": {},
   "outputs": [
    {
     "data": {
      "text/plain": [
       "'два один ноль пять три семь'"
      ]
     },
     "execution_count": 19,
     "metadata": {},
     "output_type": "execute_result"
    }
   ],
   "source": [
    "rest_last('один два семь один ноль пять три семь')"
   ]
  },
  {
   "cell_type": "markdown",
   "metadata": {},
   "source": [
    "Реализовать функцию words_to_dict, которая в качестве первого параметра принимает строку слов, разделенных пробелами, и возвращает словарь, в котором ключом является номер слова в строке, значением список букв слова, при этом в словарь добавляются только слова, не начинающиеся с заглавной буквы.\n",
    "\n",
    "Пример: words_to_dict(‘один Два шесть ноль Пять чИслО’) -> \n",
    "{1: ['о', 'д', 'и', 'н'], 3:['ш', 'е', 'с', 'т', 'ь'], 4:['н', 'о', 'л', 'ь'], 6:['ч', 'И', 'с', 'л', 'О']}\n"
   ]
  },
  {
   "cell_type": "code",
   "execution_count": 10,
   "metadata": {},
   "outputs": [],
   "source": [
    "def word_to_dict(string):\n",
    "    string = string.split()\n",
    "    dicti={}\n",
    "    for i, e in enumerate(string,1):\n",
    "        if not e.istitle():\n",
    "            dicti[i] = list(e)\n",
    "    return dicti"
   ]
  },
  {
   "cell_type": "code",
   "execution_count": 11,
   "metadata": {},
   "outputs": [
    {
     "data": {
      "text/plain": [
       "{1: ['о', 'д', 'и', 'н'],\n",
       " 3: ['ш', 'е', 'с', 'т', 'ь'],\n",
       " 4: ['н', 'о', 'л', 'ь'],\n",
       " 6: ['ч', 'И', 'с', 'л', 'О']}"
      ]
     },
     "execution_count": 11,
     "metadata": {},
     "output_type": "execute_result"
    }
   ],
   "source": [
    "word_to_dict('один Два шесть ноль Пять чИслО')"
   ]
  }
 ],
 "metadata": {
  "kernelspec": {
   "display_name": "Python 3",
   "language": "python",
   "name": "python3"
  },
  "language_info": {
   "codemirror_mode": {
    "name": "ipython",
    "version": 3
   },
   "file_extension": ".py",
   "mimetype": "text/x-python",
   "name": "python",
   "nbconvert_exporter": "python",
   "pygments_lexer": "ipython3",
   "version": "3.8.3"
  }
 },
 "nbformat": 4,
 "nbformat_minor": 4
}
