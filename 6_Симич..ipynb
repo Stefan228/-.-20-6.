{
 "cells": [
  {
   "cell_type": "raw",
   "metadata": {},
   "source": [
    "# №3: Создать класс Псевдографика, принимающий высоту и длину прямоугольника - числа символов '*'. Реализовать метод, который выводит на экран прямоугольник. Реализовать метод, который принимает число n и выводит масштабированный прямоугольник. Реализовать метод, который принимает число m и выводит m прямоугольников последовательно. "
   ]
  },
  {
   "cell_type": "code",
   "execution_count": 1,
   "metadata": {},
   "outputs": [],
   "source": [
    "class Psegra():\n",
    "    def __init__(self, dlina, visota):      #получаем значения высоты и длины\n",
    "        self.dlina = dlina  \n",
    "        self.visota = visota\n",
    "    def one(self):                            #по введенным данным строим прямоугольник\n",
    "        x = self.dlina \n",
    "        y = self.visota\n",
    "        print(\"*\" * x)\n",
    "        for _ in range(y-2):\n",
    "            print(\"*\" * x)\n",
    "        print(\"*\" * x)  \n",
    "    def two(self, n):                          #выводит масщтабированный прямоугольник\n",
    "        x = self.dlina * n\n",
    "        y = self.visota * n\n",
    "        print(\"*\" * x)\n",
    "        for _ in range(y-2):\n",
    "            print(\"*\" * x)\n",
    "        print(\"*\" * x)       \n",
    "    def three(self, m):                      #выводит m прямоугольников                \n",
    "        x = self.dlina\n",
    "        y = self.visota\n",
    "        for _ in range(m):\n",
    "            print(\"*\" * x)\n",
    "            for _ in range(y-2):\n",
    "                print(\"*\" * x)\n",
    "            print(\"*\" * x)  \n",
    "            print(\"o\" * (x + 2))    #разделитель между прямоугольниками\n",
    "            \n",
    "fig = Psegra(11, 9)"
   ]
  },
  {
   "cell_type": "code",
   "execution_count": 2,
   "metadata": {},
   "outputs": [
    {
     "name": "stdout",
     "output_type": "stream",
     "text": [
      "***********\n",
      "***********\n",
      "***********\n",
      "***********\n",
      "***********\n",
      "***********\n",
      "***********\n",
      "***********\n",
      "***********\n"
     ]
    }
   ],
   "source": [
    "fig.one()"
   ]
  },
  {
   "cell_type": "code",
   "execution_count": 3,
   "metadata": {},
   "outputs": [
    {
     "name": "stdout",
     "output_type": "stream",
     "text": [
      "*********************************\n",
      "*********************************\n",
      "*********************************\n",
      "*********************************\n",
      "*********************************\n",
      "*********************************\n",
      "*********************************\n",
      "*********************************\n",
      "*********************************\n",
      "*********************************\n",
      "*********************************\n",
      "*********************************\n",
      "*********************************\n",
      "*********************************\n",
      "*********************************\n",
      "*********************************\n",
      "*********************************\n",
      "*********************************\n",
      "*********************************\n",
      "*********************************\n",
      "*********************************\n",
      "*********************************\n",
      "*********************************\n",
      "*********************************\n",
      "*********************************\n",
      "*********************************\n",
      "*********************************\n"
     ]
    }
   ],
   "source": [
    "fig.two(3)"
   ]
  },
  {
   "cell_type": "code",
   "execution_count": 4,
   "metadata": {},
   "outputs": [
    {
     "name": "stdout",
     "output_type": "stream",
     "text": [
      "***********\n",
      "***********\n",
      "***********\n",
      "***********\n",
      "***********\n",
      "***********\n",
      "***********\n",
      "***********\n",
      "***********\n",
      "ooooooooooooo\n",
      "***********\n",
      "***********\n",
      "***********\n",
      "***********\n",
      "***********\n",
      "***********\n",
      "***********\n",
      "***********\n",
      "***********\n",
      "ooooooooooooo\n",
      "***********\n",
      "***********\n",
      "***********\n",
      "***********\n",
      "***********\n",
      "***********\n",
      "***********\n",
      "***********\n",
      "***********\n",
      "ooooooooooooo\n",
      "***********\n",
      "***********\n",
      "***********\n",
      "***********\n",
      "***********\n",
      "***********\n",
      "***********\n",
      "***********\n",
      "***********\n",
      "ooooooooooooo\n"
     ]
    }
   ],
   "source": [
    "fig.three(4)"
   ]
  },
  {
   "cell_type": "raw",
   "metadata": {},
   "source": [
    "№4 Создать класс, принимающий значение года и числа дней от начала года. Число дней может быть любым целым, в том числе большим 365. Считаем, что число дней в каждом месяце равно 30.  Public атрибуты экземпляра класса - год, месяц, день. Реализовать метод, выводящий год, месяц, день следующего дня. Реализовать метод, который принимает число n и выводит год, месяц, день дня, отстоящего от текущего на n. Реализовать метод, который принимает дату и выводит число дней между введенной и указанной датами."
   ]
  },
  {
   "cell_type": "code",
   "execution_count": 5,
   "metadata": {},
   "outputs": [],
   "source": [
    "class Dati():\n",
    "    def __init__(self, god, dni):                #определяем какой день, месяц и год по введенным данным\n",
    "        self.q1 = (dni % (30 * 12)) % 30\n",
    "        self.w1 = (dni % (30 * 12)) // 30\n",
    "        self.r1 = god + dni // (30 * 12)\n",
    "        self.__hp = god * (30 * 12) + dni\n",
    "    def pervoe(self):                      #определяем день, меясц и год следующего дня\n",
    "        t = self.__hp + 1\n",
    "        q = (t % (30 * 12)) % 30\n",
    "        w = (t % (30 * 12)) // 30\n",
    "        r = (t // (30 * 12))\n",
    "        return(q,w,r)\n",
    "    def vtoroe(self, n):      #определяем день, число и год отстоющего от введенного на n \n",
    "        t = self.__hp + n\n",
    "        q = (t % (30 * 12)) % 30\n",
    "        w = (t % (30 * 12)) // 30\n",
    "        r = (t // (30 * 12))\n",
    "        return(q,w,r)\n",
    "    def trete(self, num):      #выводит число дней между введенной и указанной датой\n",
    "        return abs(num.__hp - self.__hp)\n",
    "\n",
    "a = Dati(11, 234)\n",
    "b = Dati(7, 578)"
   ]
  },
  {
   "cell_type": "code",
   "execution_count": 6,
   "metadata": {},
   "outputs": [
    {
     "data": {
      "text/plain": [
       "(25, 7, 11)"
      ]
     },
     "execution_count": 6,
     "metadata": {},
     "output_type": "execute_result"
    }
   ],
   "source": [
    "a.pervoe()"
   ]
  },
  {
   "cell_type": "code",
   "execution_count": 7,
   "metadata": {},
   "outputs": [
    {
     "data": {
      "text/plain": [
       "(29, 1, 18)"
      ]
     },
     "execution_count": 7,
     "metadata": {},
     "output_type": "execute_result"
    }
   ],
   "source": [
    "a.vtoroe(2345)"
   ]
  },
  {
   "cell_type": "code",
   "execution_count": 8,
   "metadata": {},
   "outputs": [
    {
     "data": {
      "text/plain": [
       "1096"
      ]
     },
     "execution_count": 8,
     "metadata": {},
     "output_type": "execute_result"
    }
   ],
   "source": [
    "a.trete(b)"
   ]
  },
  {
   "cell_type": "raw",
   "metadata": {},
   "source": [
    "#1 Создать класс, который принимает строку, состоящую из четного числа символов. При создании экземпляра класса происходит деление строки на 2 равные части.\n",
    "У экземпляра класса есть только 2 public атрибута: атрибут, выводящий число символов в одной строке, полученной после деления исходной строки на 2 части, и атрибут, сделанный из метода и выводящий кортеж, элементами которого являются 2 части разделенной строки. Также у экземпляра класса есть метод, который принимает в качестве параметра другой объект этого же класса и выводит список из двух строк, каждая равна склейке соответствующих элементов 2-х объектов (т.е. 1-я часть с 1-й частью, 2-я часть со 2-й частью). Также в классе реализовать статический метод, который принимает строку и возвращает модифицированную строку, в которой при наличие цифр, каждая цифра дублируется (т.е., например, 'qeg1jd5kju658a' -> 'qeg11jd55kju665588a'). Также реализовать метод класса, который принимает строку, но перед созданием экземпляра класса выбрасывает из строки все символы-цифры (т.е., например, 'qeg1jd5kju65' -> 'qegjdkju', для удобство можно считать число символов и цифр четным и не проверять это)."
   ]
  },
  {
   "cell_type": "code",
   "execution_count": 9,
   "metadata": {},
   "outputs": [],
   "source": [
    "class Dano():\n",
    "    def __init__(self, tyko):                                     #делим строку на две части\n",
    "        self._tyko = [tyko[:len(tyko)//2], tyko[len(tyko)//2:]]\n",
    "        self.dlin = len(tyko)//2        \n",
    "    @property\n",
    "    def k1 (self):                             #выводим полученные две части\n",
    "        return (self._tyko[0], self._tyko[1])    \n",
    "    def k2 (self, klop):                       #выводим список из склеенных элементов\n",
    "        return [self._tyko[0] + klop._tyko[0], self._tyko[1] + klop._tyko[1]] \n",
    "    @staticmethod\n",
    "    def k3 (tyko):    #удваиваем количесвто цифр в данной строке\n",
    "        fin = \"\"\n",
    "        for i in tyko:\n",
    "            if i in \"1234567890\":\n",
    "                fin += i * 2\n",
    "            else: \n",
    "                fin += i\n",
    "        return fin  \n",
    "    @classmethod\n",
    "    def qwerty(cls, abc):     #убирает из строки все цифры\n",
    "        fin = \"\"\n",
    "        for i in abc:\n",
    "            if i not in \"1234567890\":\n",
    "                fin += i\n",
    "        return fin\n",
    "    \n",
    "t1 = Dano('fuwiej3wfuwef8321') \n",
    "t2 = Dano('fuwiej3wfuwef8321')\n",
    "t3 = ('few324r3fg43q')"
   ]
  },
  {
   "cell_type": "code",
   "execution_count": 10,
   "metadata": {},
   "outputs": [
    {
     "data": {
      "text/plain": [
       "('fuwiej3w', 'fuwef8321')"
      ]
     },
     "execution_count": 10,
     "metadata": {},
     "output_type": "execute_result"
    }
   ],
   "source": [
    "t1.k1"
   ]
  },
  {
   "cell_type": "code",
   "execution_count": 11,
   "metadata": {},
   "outputs": [
    {
     "data": {
      "text/plain": [
       "['fuwiej3wfuwiej3w', 'fuwef8321fuwef8321']"
      ]
     },
     "execution_count": 11,
     "metadata": {},
     "output_type": "execute_result"
    }
   ],
   "source": [
    "t1.k2(t2)"
   ]
  },
  {
   "cell_type": "code",
   "execution_count": 12,
   "metadata": {},
   "outputs": [
    {
     "data": {
      "text/plain": [
       "'few332244r33fg4433q'"
      ]
     },
     "execution_count": 12,
     "metadata": {},
     "output_type": "execute_result"
    }
   ],
   "source": [
    "Dano.k3(t3)"
   ]
  },
  {
   "cell_type": "code",
   "execution_count": 13,
   "metadata": {},
   "outputs": [
    {
     "data": {
      "text/plain": [
       "'fewrfgq'"
      ]
     },
     "execution_count": 13,
     "metadata": {},
     "output_type": "execute_result"
    }
   ],
   "source": [
    "Dano.qwerty(t3)"
   ]
  },
  {
   "cell_type": "raw",
   "metadata": {},
   "source": [
    "#2 На основе класса задачи №1 создать дочерний класс, который дополнительно принимает число n. У экземпляра такого класса появляется атрибут, который выводит строку, в которой каждый символ дублируется n раз (т.е. например, 'dfgy', 3 -> 'dddfffgggyyy'). Также есть метод, который принимает в качестве параметра другой объект этого же класса и выводит список из двух строк, равных посимвольной склейке соответствующих элементов 2-х объектов (1-й символ 1-й части с 1-м символом 1-й части, 2-й символ 1-й части с 2-м символом 1-й части, 3-й символ 1-й части с 3-м символом 1-й части, 4-й символ 1-й части с 4-м символом 1-й части, т.д, аналогично для второй части)."
   ]
  },
  {
   "cell_type": "code",
   "execution_count": 14,
   "metadata": {},
   "outputs": [],
   "source": [
    "class Bigdano(Dano):\n",
    "    def __init__(self, tyko, n):    #дублирует каждый символ n раз\n",
    "        super().__init__(tyko)\n",
    "        fin = \"\"\n",
    "        for i in tyko:\n",
    "            fin += i * 3\n",
    "        self.n3 = fin\n",
    "    def hpl(self, qaz):       #склеивает элементы посимвольно\n",
    "        fin = [\"\", \"\"]\n",
    "        for i in range (len(self._tyko)):\n",
    "            for j in range (len(min(self._tyko[i], qaz._tyko[i]))):\n",
    "                fin[i] += self._tyko[i][j] + qaz._tyko[i][j]\n",
    "        return fin\n",
    "    \n",
    "t5 = Bigdano('cmsdjn', 3)\n",
    "t6 = Bigdano('owcwmw', 3)"
   ]
  },
  {
   "cell_type": "code",
   "execution_count": 15,
   "metadata": {},
   "outputs": [
    {
     "data": {
      "text/plain": [
       "'cccmmmsssdddjjjnnn'"
      ]
     },
     "execution_count": 15,
     "metadata": {},
     "output_type": "execute_result"
    }
   ],
   "source": [
    "t5.n3"
   ]
  },
  {
   "cell_type": "code",
   "execution_count": 16,
   "metadata": {},
   "outputs": [
    {
     "data": {
      "text/plain": [
       "['comwsc', 'dwjmnw']"
      ]
     },
     "execution_count": 16,
     "metadata": {},
     "output_type": "execute_result"
    }
   ],
   "source": [
    "t5.hpl(t6)"
   ]
  },
  {
   "cell_type": "code",
   "execution_count": null,
   "metadata": {},
   "outputs": [],
   "source": []
  }
 ],
 "metadata": {
  "kernelspec": {
   "display_name": "Python 3",
   "language": "python",
   "name": "python3"
  },
  "language_info": {
   "codemirror_mode": {
    "name": "ipython",
    "version": 3
   },
   "file_extension": ".py",
   "mimetype": "text/x-python",
   "name": "python",
   "nbconvert_exporter": "python",
   "pygments_lexer": "ipython3",
   "version": "3.8.5"
  }
 },
 "nbformat": 4,
 "nbformat_minor": 4
}
